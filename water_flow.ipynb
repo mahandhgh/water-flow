{
 "cells": [
  {
   "cell_type": "markdown",
   "metadata": {},
   "source": [
    "# Water Flow With Backtracking"
   ]
  },
  {
   "cell_type": "code",
   "execution_count": null,
   "metadata": {},
   "outputs": [],
   "source": [
    "m, n = map(int, input().split())\n",
    "x, y = map(int, input().split())\n",
    "lst = [list(map(int, input().split())) for i in range(m)]\n",
    "my_set = set()"
   ]
  },
  {
   "cell_type": "code",
   "execution_count": null,
   "metadata": {},
   "outputs": [],
   "source": [
    "def arrow(x, y):\n",
    "\n",
    "    my_set.add((x,y))\n",
    "\n",
    "    if y + 1 < n and lst[x][y + 1] <= lst[x][y]: # right\n",
    "\n",
    "        arrow(x, y + 1)\n",
    "\n",
    "    if x + 1 < m and lst[x + 1][y] <= lst[x][y]: # down\n",
    "        arrow(x + 1, y)\n",
    "\n",
    "    if y - 1 >= 0 and lst[x][y - 1] <= lst[x][y]: #left\n",
    "        arrow(x, y - 1)\n",
    "\n",
    "    if x - 1 >= 0 and lst[x - 1][y] <= lst[x][y]: #up\n",
    "        arrow(x - 1, y) \n",
    "\n",
    "arrow(x,y)\n",
    "my_list = sorted(list(my_set))\n",
    "\n",
    "def is_minimum(i , j ,board):\n",
    "\n",
    "    counter = 0\n",
    "\n",
    "    if i-1 >= 0:\n",
    "        if not board[i][j] <= board[i-1][j]:\n",
    "            counter += 1\n",
    "\n",
    "    if i+1 < m :\n",
    "        if not board[i][j] <= board[i+1][j]:\n",
    "            counter += 1\n",
    "\n",
    "    if j-1 >= 0:\n",
    "        if not board[i][j] < board[i][j-1]:\n",
    "            counter += 1\n",
    "\n",
    "    if j+1 < n:\n",
    "        if not board[i][j] < board[i][j+1]:\n",
    "            counter += 1\n",
    "\n",
    "    if counter == 0 :\n",
    "        return True\n",
    "\n",
    "    return False\n",
    "\n",
    "def print_path(list):\n",
    "    for i in list:\n",
    "        print(i)\n",
    "\n",
    "def start(list1=my_list):\n",
    "    if list1[0] == list1[-1]:\n",
    "        print('False')\n",
    "        return\n",
    "\n",
    "    for i, j in list1:\n",
    "        if i == 0 and is_minimum(i, j, lst) or i == m-1 and is_minimum(i, j, lst) or j == 0 and is_minimum(i, j, lst) or j == n-1 and is_minimum(i, j, lst):\n",
    "            print_path(list1)\n",
    "            return\n",
    "\n",
    "    print('False')\n",
    "\n",
    "start()"
   ]
  }
 ],
 "metadata": {
  "language_info": {
   "name": "python"
  }
 },
 "nbformat": 4,
 "nbformat_minor": 2
}
